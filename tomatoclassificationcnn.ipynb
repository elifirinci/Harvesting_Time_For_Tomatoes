{
 "cells": [
  {
   "cell_type": "code",
   "execution_count": 1,
   "metadata": {
    "_cell_guid": "b1076dfc-b9ad-4769-8c92-a6c4dae69d19",
    "_uuid": "8f2839f25d086af736a60e9eeb907d3b93b6e0e5",
    "execution": {
     "iopub.execute_input": "2024-12-02T15:29:49.686360Z",
     "iopub.status.busy": "2024-12-02T15:29:49.686106Z",
     "iopub.status.idle": "2024-12-02T15:30:01.576364Z",
     "shell.execute_reply": "2024-12-02T15:30:01.575614Z",
     "shell.execute_reply.started": "2024-12-02T15:29:49.686334Z"
    },
    "trusted": true
   },
   "outputs": [],
   "source": [
    "from tensorflow.keras.layers import Conv2D,MaxPooling2D,Dense,Flatten,Dropout\n",
    "from tensorflow.keras.preprocessing.image import ImageDataGenerator\n",
    "from tensorflow.keras import Sequential\n",
    "from tensorflow.keras.callbacks import EarlyStopping\n",
    "import numpy as np \n",
    "import matplotlib.pyplot as plt\n",
    "from sklearn.metrics import confusion_matrix, ConfusionMatrixDisplay"
   ]
  },
  {
   "cell_type": "code",
   "execution_count": null,
   "metadata": {
    "execution": {
     "iopub.execute_input": "2024-12-02T15:30:01.577910Z",
     "iopub.status.busy": "2024-12-02T15:30:01.577419Z",
     "iopub.status.idle": "2024-12-02T15:30:01.581970Z",
     "shell.execute_reply": "2024-12-02T15:30:01.581133Z",
     "shell.execute_reply.started": "2024-12-02T15:30:01.577882Z"
    },
    "trusted": true
   },
   "outputs": [],
   "source": [
    "data_dir = \"dataset_tmt/train\"\n",
    "data_dir2 = \"dataset_tmt/test\""
   ]
  },
  {
   "cell_type": "code",
   "execution_count": 3,
   "metadata": {
    "execution": {
     "iopub.execute_input": "2024-12-02T15:30:01.583469Z",
     "iopub.status.busy": "2024-12-02T15:30:01.583120Z",
     "iopub.status.idle": "2024-12-02T15:30:02.578001Z",
     "shell.execute_reply": "2024-12-02T15:30:02.577123Z",
     "shell.execute_reply.started": "2024-12-02T15:30:01.583418Z"
    },
    "trusted": true
   },
   "outputs": [
    {
     "name": "stdout",
     "output_type": "stream",
     "text": [
      "Found 227 images belonging to 3 classes.\n",
      "Found 55 images belonging to 3 classes.\n",
      "Found 30 images belonging to 3 classes.\n"
     ]
    }
   ],
   "source": [
    "datagen = ImageDataGenerator(\n",
    "    rescale=1./255,          # Görüntülerin piksel değerlerini [0,1] aralığına getirir\n",
    "    rotation_range=40,       # Görüntüleri rastgele döndürme\n",
    "    width_shift_range=0.2,   # Görüntüleri yatayda kaydırma\n",
    "    height_shift_range=0.2,  # Görüntüleri dikeyde kaydırma\n",
    "    zoom_range=0.2,          # Görüntüleri rastgele yakınlaştırma\n",
    "    horizontal_flip=True,    # Görüntüleri yatayda çevirme\n",
    "    validation_split=0.2     # Eğitim ve doğrulama için veriyi ayırma\n",
    ")\n",
    "\n",
    "train_generator = datagen.flow_from_directory(\n",
    "    data_dir,\n",
    "    target_size=(150, 150),\n",
    "    batch_size=32,\n",
    "    class_mode='categorical',   \n",
    "    subset='training',     \n",
    "    shuffle=True           \n",
    ")\n",
    "\n",
    "validation_generator = datagen.flow_from_directory(\n",
    "    data_dir,\n",
    "    target_size=(150, 150),\n",
    "    batch_size=32,\n",
    "    class_mode='categorical',\n",
    "    subset='validation',     # Set as validation data\n",
    "    shuffle=True\n",
    ")\n",
    "\n",
    "test_datagen = ImageDataGenerator(rescale=1./255)\n",
    "\n",
    "test_generator = test_datagen.flow_from_directory(\n",
    "    data_dir2,\n",
    "    target_size=(150, 150),\n",
    "    batch_size=32,\n",
    "    class_mode='categorical',\n",
    "    shuffle=False\n",
    ")"
   ]
  },
  {
   "cell_type": "code",
   "execution_count": 4,
   "metadata": {
    "execution": {
     "iopub.execute_input": "2024-12-02T15:30:02.581134Z",
     "iopub.status.busy": "2024-12-02T15:30:02.580512Z",
     "iopub.status.idle": "2024-12-02T15:30:44.688814Z",
     "shell.execute_reply": "2024-12-02T15:30:44.688044Z",
     "shell.execute_reply.started": "2024-12-02T15:30:02.581105Z"
    },
    "trusted": true
   },
   "outputs": [
    {
     "name": "stderr",
     "output_type": "stream",
     "text": [
      "/opt/conda/lib/python3.10/site-packages/keras/src/layers/convolutional/base_conv.py:107: UserWarning: Do not pass an `input_shape`/`input_dim` argument to a layer. When using Sequential models, prefer using an `Input(shape)` object as the first layer in the model instead.\n",
      "  super().__init__(activity_regularizer=activity_regularizer, **kwargs)\n"
     ]
    },
    {
     "name": "stdout",
     "output_type": "stream",
     "text": [
      "Epoch 1/10\n"
     ]
    },
    {
     "name": "stderr",
     "output_type": "stream",
     "text": [
      "/opt/conda/lib/python3.10/site-packages/keras/src/trainers/data_adapters/py_dataset_adapter.py:121: UserWarning: Your `PyDataset` class should call `super().__init__(**kwargs)` in its constructor. `**kwargs` can include `workers`, `use_multiprocessing`, `max_queue_size`. Do not pass these arguments to `fit()`, as they will be ignored.\n",
      "  self._warn_if_super_not_called()\n",
      "WARNING: All log messages before absl::InitializeLog() is called are written to STDERR\n",
      "I0000 00:00:1733153409.783601     123 service.cc:145] XLA service 0x7ec80000c120 initialized for platform CUDA (this does not guarantee that XLA will be used). Devices:\n",
      "I0000 00:00:1733153409.783668     123 service.cc:153]   StreamExecutor device (0): Tesla T4, Compute Capability 7.5\n",
      "I0000 00:00:1733153409.783675     123 service.cc:153]   StreamExecutor device (1): Tesla T4, Compute Capability 7.5\n"
     ]
    },
    {
     "name": "stdout",
     "output_type": "stream",
     "text": [
      "\u001b[1m1/8\u001b[0m \u001b[32m━━\u001b[0m\u001b[37m━━━━━━━━━━━━━━━━━━\u001b[0m \u001b[1m59s\u001b[0m 8s/step - accuracy: 0.0000e+00 - loss: 1.2264"
     ]
    },
    {
     "name": "stderr",
     "output_type": "stream",
     "text": [
      "I0000 00:00:1733153412.899259     123 device_compiler.h:188] Compiled cluster using XLA!  This line is logged at most once for the lifetime of the process.\n"
     ]
    },
    {
     "name": "stdout",
     "output_type": "stream",
     "text": [
      "\u001b[1m8/8\u001b[0m \u001b[32m━━━━━━━━━━━━━━━━━━━━\u001b[0m\u001b[37m\u001b[0m \u001b[1m14s\u001b[0m 836ms/step - accuracy: 0.2991 - loss: 1.5636 - val_accuracy: 0.3667 - val_loss: 1.0661\n",
      "Epoch 2/10\n",
      "\u001b[1m8/8\u001b[0m \u001b[32m━━━━━━━━━━━━━━━━━━━━\u001b[0m\u001b[37m\u001b[0m \u001b[1m4s\u001b[0m 58ms/step - accuracy: 0.5105 - loss: 0.9895 - val_accuracy: 0.6000 - val_loss: 0.8550\n",
      "Epoch 3/10\n",
      "\u001b[1m8/8\u001b[0m \u001b[32m━━━━━━━━━━━━━━━━━━━━\u001b[0m\u001b[37m\u001b[0m \u001b[1m3s\u001b[0m 65ms/step - accuracy: 0.5343 - loss: 0.8736 - val_accuracy: 0.7667 - val_loss: 0.5759\n",
      "Epoch 4/10\n",
      "\u001b[1m8/8\u001b[0m \u001b[32m━━━━━━━━━━━━━━━━━━━━\u001b[0m\u001b[37m\u001b[0m \u001b[1m3s\u001b[0m 59ms/step - accuracy: 0.7484 - loss: 0.6071 - val_accuracy: 0.6667 - val_loss: 0.4850\n",
      "Epoch 5/10\n",
      "\u001b[1m8/8\u001b[0m \u001b[32m━━━━━━━━━━━━━━━━━━━━\u001b[0m\u001b[37m\u001b[0m \u001b[1m3s\u001b[0m 67ms/step - accuracy: 0.6804 - loss: 0.6756 - val_accuracy: 0.7667 - val_loss: 0.4115\n",
      "Epoch 6/10\n",
      "\u001b[1m8/8\u001b[0m \u001b[32m━━━━━━━━━━━━━━━━━━━━\u001b[0m\u001b[37m\u001b[0m \u001b[1m3s\u001b[0m 51ms/step - accuracy: 0.7654 - loss: 0.5731 - val_accuracy: 0.8000 - val_loss: 0.4009\n",
      "Epoch 7/10\n",
      "\u001b[1m8/8\u001b[0m \u001b[32m━━━━━━━━━━━━━━━━━━━━\u001b[0m\u001b[37m\u001b[0m \u001b[1m2s\u001b[0m 50ms/step - accuracy: 0.7263 - loss: 0.5201 - val_accuracy: 0.8667 - val_loss: 0.3933\n",
      "Epoch 8/10\n",
      "\u001b[1m8/8\u001b[0m \u001b[32m━━━━━━━━━━━━━━━━━━━━\u001b[0m\u001b[37m\u001b[0m \u001b[1m2s\u001b[0m 46ms/step - accuracy: 0.7781 - loss: 0.4279 - val_accuracy: 0.9000 - val_loss: 0.2959\n",
      "Epoch 9/10\n",
      "\u001b[1m8/8\u001b[0m \u001b[32m━━━━━━━━━━━━━━━━━━━━\u001b[0m\u001b[37m\u001b[0m \u001b[1m2s\u001b[0m 47ms/step - accuracy: 0.8400 - loss: 0.3830 - val_accuracy: 0.8333 - val_loss: 0.3326\n",
      "Epoch 10/10\n",
      "\u001b[1m8/8\u001b[0m \u001b[32m━━━━━━━━━━━━━━━━━━━━\u001b[0m\u001b[37m\u001b[0m \u001b[1m2s\u001b[0m 43ms/step - accuracy: 0.8581 - loss: 0.3639 - val_accuracy: 0.7333 - val_loss: 0.4538\n"
     ]
    }
   ],
   "source": [
    "model = Sequential([\n",
    "    Conv2D(32, (3, 3), activation='relu',padding=\"same\", input_shape=(150, 150, 3)),\n",
    "    MaxPooling2D((2, 2)),\n",
    "    \n",
    "    Conv2D(64, (3, 3),padding=\"same\", activation='relu'),\n",
    "    MaxPooling2D((2, 2)),\n",
    "    \n",
    "    Conv2D(128, (3, 3),padding=\"same\", activation='relu'),\n",
    "    MaxPooling2D((2, 2)),\n",
    "    \n",
    "    Conv2D(128, (3, 3),padding=\"same\", activation='relu'),\n",
    "    MaxPooling2D((2, 2)),\n",
    "    \n",
    "    Flatten(),\n",
    "    Dense(512, activation='relu'),\n",
    "    Dense(3, activation='softmax') \n",
    "])\n",
    "\n",
    "# Compile the model\n",
    "model.compile(\n",
    "    loss='categorical_crossentropy',  # Since this is multi-class classification\n",
    "    optimizer='adam',\n",
    "    metrics=['accuracy']\n",
    ")\n",
    "\n",
    "early_stopping = EarlyStopping(monitor='val_loss',  # İzlenecek metrik\n",
    "                               patience=3,         # 3 epoch boyunca iyileşme olmazsa durdur\n",
    "                               restore_best_weights=True)  # En iyi ağırlıkları geri yükle\n",
    "\n",
    "# Train the model\n",
    "history = model.fit(\n",
    "    train_generator,\n",
    "    validation_data=test_generator,\n",
    "    epochs=10,\n",
    "    callbacks=[early_stopping] \n",
    ")"
   ]
  },
  {
   "cell_type": "code",
   "execution_count": 5,
   "metadata": {
    "execution": {
     "iopub.execute_input": "2024-12-02T15:30:44.690391Z",
     "iopub.status.busy": "2024-12-02T15:30:44.690033Z",
     "iopub.status.idle": "2024-12-02T15:30:47.791297Z",
     "shell.execute_reply": "2024-12-02T15:30:47.790441Z",
     "shell.execute_reply.started": "2024-12-02T15:30:44.690350Z"
    },
    "trusted": true
   },
   "outputs": [
    {
     "name": "stdout",
     "output_type": "stream",
     "text": [
      "\u001b[1m1/1\u001b[0m \u001b[32m━━━━━━━━━━━━━━━━━━━━\u001b[0m\u001b[37m\u001b[0m \u001b[1m0s\u001b[0m 123ms/step - accuracy: 0.9000 - loss: 0.2959\n",
      "\u001b[1m8/8\u001b[0m \u001b[32m━━━━━━━━━━━━━━━━━━━━\u001b[0m\u001b[37m\u001b[0m \u001b[1m2s\u001b[0m 249ms/step - accuracy: 0.8749 - loss: 0.3669\n",
      "Test accuracy: 0.8999999761581421\n",
      "Train accuracy: 0.8722466826438904\n"
     ]
    }
   ],
   "source": [
    "test_loss, test_accuracy = model.evaluate(test_generator)\n",
    "train_loss, train_accuracy = model.evaluate(train_generator)\n",
    "print(\"Test accuracy:\" ,test_accuracy)\n",
    "print(\"Train accuracy:\" ,train_accuracy)"
   ]
  },
  {
   "cell_type": "code",
   "execution_count": 6,
   "metadata": {
    "execution": {
     "iopub.execute_input": "2024-12-02T15:30:47.792757Z",
     "iopub.status.busy": "2024-12-02T15:30:47.792430Z",
     "iopub.status.idle": "2024-12-02T15:30:48.573643Z",
     "shell.execute_reply": "2024-12-02T15:30:48.572579Z",
     "shell.execute_reply.started": "2024-12-02T15:30:47.792726Z"
    },
    "trusted": true
   },
   "outputs": [
    {
     "name": "stdout",
     "output_type": "stream",
     "text": [
      "\u001b[1m1/1\u001b[0m \u001b[32m━━━━━━━━━━━━━━━━━━━━\u001b[0m\u001b[37m\u001b[0m \u001b[1m0s\u001b[0m 374ms/step\n"
     ]
    },
    {
     "data": {
      "image/png": "[encoded data removed]",
      "text/plain": [
       "<Figure size 640x480 with 2 Axes>"
      ]
     },
     "metadata": {},
     "output_type": "display_data"
    }
   ],
   "source": [
    "# Sınıf indekslerini al\n",
    "class_indices = test_generator.class_indices\n",
    "# Sınıf isimlerine dönüştürme (sınıf ismi ve indekslerinin tersini alarak)\n",
    "class_names = {v: k for k, v in class_indices.items()}\n",
    "\n",
    "test_labels = test_generator.classes  # Test setindeki gerçek sınıflar\n",
    "test_predictions = model.predict(test_generator)\n",
    "predicted_classes = np.argmax(test_predictions, axis=1)\n",
    "\n",
    "# Karışıklık matrisi\n",
    "cm = confusion_matrix(test_labels, predicted_classes)\n",
    "disp = ConfusionMatrixDisplay(confusion_matrix=cm, display_labels=list(class_names.values()))\n",
    "disp.plot(cmap=plt.cm.Blues)\n",
    "plt.title(\"Confusion Matrix\")\n",
    "plt.show()"
   ]
  },
  {
   "cell_type": "code",
   "execution_count": null,
   "metadata": {
    "trusted": true
   },
   "outputs": [],
   "source": [
    "model.save(\"model_geçici.h5\")"
   ]
  }
 ],
 "metadata": {
  "kaggle": {
   "accelerator": "nvidiaTeslaT4",
   "dataSources": [
    {
     "datasetId": 5353029,
     "sourceId": 8903857,
     "sourceType": "datasetVersion"
    },
    {
     "datasetId": 6205848,
     "sourceId": 10068918,
     "sourceType": "datasetVersion"
    },
    {
     "datasetId": 6206166,
     "sourceId": 10069344,
     "sourceType": "datasetVersion"
    }
   ],
   "dockerImageVersionId": 30762,
   "isGpuEnabled": true,
   "isInternetEnabled": true,
   "language": "python",
   "sourceType": "notebook"
  },
  "kernelspec": {
   "display_name": "Python 3",
   "language": "python",
   "name": "python3"
  },
  "language_info": {
   "codemirror_mode": {
    "name": "ipython",
    "version": 3
   },
   "file_extension": ".py",
   "mimetype": "text/x-python",
   "name": "python",
   "nbconvert_exporter": "python",
   "pygments_lexer": "ipython3",
   "version": "3.10.14"
  }
 },
 "nbformat": 4,
 "nbformat_minor": 4
}
